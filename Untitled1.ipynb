{
 "cells": [
  {
   "cell_type": "code",
   "execution_count": null,
   "id": "e78d86e4",
   "metadata": {},
   "outputs": [],
   "source": [
    "text=input()\n",
    "word=input()\n",
    "\n",
    "def search(text,word):\n",
    " if word in text:\n",
    "    print(\"word found\")\n",
    " else:\n",
    "    print(\"word not found\")\n",
    "search(text , word)"
   ]
  }
 ],
 "metadata": {
  "kernelspec": {
   "display_name": "Python 3 (ipykernel)",
   "language": "python",
   "name": "python3"
  },
  "language_info": {
   "codemirror_mode": {
    "name": "ipython",
    "version": 3
   },
   "file_extension": ".py",
   "mimetype": "text/x-python",
   "name": "python",
   "nbconvert_exporter": "python",
   "pygments_lexer": "ipython3",
   "version": "3.9.12"
  }
 },
 "nbformat": 4,
 "nbformat_minor": 5
}
