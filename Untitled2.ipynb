{
 "cells": [
  {
   "cell_type": "code",
   "execution_count": 1,
   "id": "c2d638a6",
   "metadata": {},
   "outputs": [],
   "source": [
    "#BMI CALCULATOR"
   ]
  },
  {
   "cell_type": "code",
   "execution_count": null,
   "id": "28df8206",
   "metadata": {},
   "outputs": [],
   "source": [
    "x = int(input())\n",
    "y = float(input())\n",
    "\n",
    "if(x/(y**2))<18.5:\n",
    "    print('underweight')\n",
    "elif(x/(y**2))<25:\n",
    "    print('normal')\n",
    "elif(x/(y**2))<30:\n",
    "    print('overweight')\n",
    "elif (x/(y**2))>31:\n",
    "    print('obesity')"
   ]
  }
 ],
 "metadata": {
  "kernelspec": {
   "display_name": "Python 3 (ipykernel)",
   "language": "python",
   "name": "python3"
  },
  "language_info": {
   "codemirror_mode": {
    "name": "ipython",
    "version": 3
   },
   "file_extension": ".py",
   "mimetype": "text/x-python",
   "name": "python",
   "nbconvert_exporter": "python",
   "pygments_lexer": "ipython3",
   "version": "3.9.12"
  }
 },
 "nbformat": 4,
 "nbformat_minor": 5
}
