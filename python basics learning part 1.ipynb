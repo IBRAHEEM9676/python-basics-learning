{
 "cells": [
  {
   "cell_type": "code",
   "execution_count": 1,
   "id": "7466a44c",
   "metadata": {},
   "outputs": [],
   "source": [
    "# python program basics"
   ]
  },
  {
   "cell_type": "code",
   "execution_count": 2,
   "id": "c14b6b7f",
   "metadata": {},
   "outputs": [],
   "source": [
    "#CHECK EVEN ODD"
   ]
  },
  {
   "cell_type": "code",
   "execution_count": null,
   "id": "046549de",
   "metadata": {},
   "outputs": [],
   "source": [
    "num=int(input(\"enter a number: \"))\n",
    "if (num % 2)==0:\n",
    "    print(num, \" is even \")\n",
    "else:\n",
    "    print(num, \" is odd\")"
   ]
  },
  {
   "cell_type": "code",
   "execution_count": null,
   "id": "2e6f7dd0",
   "metadata": {},
   "outputs": [],
   "source": [
    "#CHECK IF IT IS A PALINDROME"
   ]
  },
  {
   "cell_type": "code",
   "execution_count": null,
   "id": "946ceea9",
   "metadata": {},
   "outputs": [],
   "source": [
    "n=int(input(\"enter number: \"))\n",
    "temp=n\n",
    "rev=0\n",
    "while(n>0):\n",
    "    dig=n%10\n",
    "    rev=rev*10+dig\n",
    "    n=n//10\n",
    "if(temp==rev) :\n",
    "    print(\"the number is a palindrome ! \")\n",
    "else:\n",
    "    print(\"the number isn't a palindrome!\")"
   ]
  }
 ],
 "metadata": {
  "kernelspec": {
   "display_name": "Python 3 (ipykernel)",
   "language": "python",
   "name": "python3"
  },
  "language_info": {
   "codemirror_mode": {
    "name": "ipython",
    "version": 3
   },
   "file_extension": ".py",
   "mimetype": "text/x-python",
   "name": "python",
   "nbconvert_exporter": "python",
   "pygments_lexer": "ipython3",
   "version": "3.9.12"
  }
 },
 "nbformat": 4,
 "nbformat_minor": 5
}
